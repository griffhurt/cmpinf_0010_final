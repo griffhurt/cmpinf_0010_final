{
 "cells": [
  {
   "cell_type": "code",
   "execution_count": 1,
   "metadata": {},
   "outputs": [],
   "source": [
    "import geopandas as gpd\n",
    "import pandas as pd\n",
    "\n",
    "\n",
    "neighborhoods = gpd.read_file('pittsburghpaneighborhoods-/Neighborhoods_.shp')\n",
    "# neighborhoods.set_index(\"hood\")\n",
    "neighborhoods.head(6)\n",
    "\n",
    "stops = gpd.read_file('paac_stops_1909/PAAC_Stops_1909.shp')\n",
    "# stops.head(6)\n",
    "\n",
    "on_time_percentage = pd.read_csv(\"OTP_data.csv\")\n",
    "# on_time_percentage.head(6)"
   ]
  }
 ],
 "metadata": {
  "kernelspec": {
   "display_name": "Python 3.10.8 ('cmpinf0010_final')",
   "language": "python",
   "name": "python3"
  },
  "language_info": {
   "codemirror_mode": {
    "name": "ipython",
    "version": 3
   },
   "file_extension": ".py",
   "mimetype": "text/x-python",
   "name": "python",
   "nbconvert_exporter": "python",
   "pygments_lexer": "ipython3",
   "version": "3.10.8"
  },
  "orig_nbformat": 4,
  "vscode": {
   "interpreter": {
    "hash": "1ee7027dfe8579c36e14fe934568217b90ecddcef360f3aeb6fb121587d03c9c"
   }
  }
 },
 "nbformat": 4,
 "nbformat_minor": 2
}
